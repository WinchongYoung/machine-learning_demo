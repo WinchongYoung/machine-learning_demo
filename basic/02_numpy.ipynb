{
 "cells": [
  {
   "cell_type": "markdown",
   "id": "1f1faccf",
   "metadata": {},
   "source": [
    "## 简介"
   ]
  },
  {
   "cell_type": "code",
   "execution_count": 2,
   "id": "1d887a0a",
   "metadata": {},
   "outputs": [
    {
     "name": "stdout",
     "output_type": "stream",
     "text": [
      "[[80 89 86 67 79]\n",
      " [78 97 89 67 81]\n",
      " [90 94 78 67 74]\n",
      " [91 91 90 67 69]\n",
      " [76 87 75 67 86]\n",
      " [70 79 84 67 84]\n",
      " [94 92 93 67 64]\n",
      " [86 85 83 67 80]]\n"
     ]
    }
   ],
   "source": [
    "import numpy as np\n",
    "# 创建ndarray\n",
    "score = np.array(\n",
    "[[80, 89, 86, 67, 79],\n",
    "[78, 97, 89, 67, 81],\n",
    "[90, 94, 78, 67, 74],\n",
    "[91, 91, 90, 67, 69],\n",
    "[76, 87, 75, 67, 86],\n",
    "[70, 79, 84, 67, 84],\n",
    "[94, 92, 93, 67, 64],\n",
    "[86, 85, 83, 67, 80]])\n"
   ]
  },
  {
   "cell_type": "markdown",
   "id": "a22a0e26",
   "metadata": {},
   "source": [
    "## ndarray和原生list对比"
   ]
  },
  {
   "cell_type": "code",
   "execution_count": 4,
   "id": "b698fd29",
   "metadata": {},
   "outputs": [
    {
     "name": "stdout",
     "output_type": "stream",
     "text": [
      "CPU times: total: 250 ms\n",
      "Wall time: 556 ms\n",
      "CPU times: total: 46.9 ms\n",
      "Wall time: 113 ms\n"
     ]
    }
   ],
   "source": [
    "import random\n",
    "import time\n",
    "import numpy as np\n",
    "a = []\n",
    "for i in range(100000000):\n",
    "  a.append(random.random())\n",
    "# 通过%time魔法⽅法, 查看当前⾏的代码运⾏⼀次所花费的时间\n",
    "%time sum1=sum(a)\n",
    "b=np.array(a)\n",
    "%time sum2=np.sum(b)"
   ]
  },
  {
   "cell_type": "markdown",
   "id": "a3c307ad",
   "metadata": {},
   "source": [
    "## 基本属性"
   ]
  },
  {
   "cell_type": "code",
   "execution_count": 12,
   "id": "a1e8b91b",
   "metadata": {},
   "outputs": [
    {
     "name": "stdout",
     "output_type": "stream",
     "text": [
      "(8, 5)\n",
      "2\n",
      "40\n",
      "4\n",
      "int32\n"
     ]
    }
   ],
   "source": [
    "print(score.shape)\n",
    "print(score.ndim)\n",
    "print(score.size)\n",
    "print(score.itemsize)\n",
    "print(score.dtype)"
   ]
  },
  {
   "cell_type": "markdown",
   "id": "154f5208",
   "metadata": {},
   "source": [
    "## 数组生成"
   ]
  },
  {
   "cell_type": "code",
   "execution_count": 17,
   "id": "be94cec2",
   "metadata": {},
   "outputs": [
    {
     "name": "stdout",
     "output_type": "stream",
     "text": [
      "[[1. 1.]\n",
      " [1. 1.]]\n",
      "[[0. 0. 0.]\n",
      " [0. 0. 0.]\n",
      " [0. 0. 0.]]\n"
     ]
    }
   ],
   "source": [
    "# ⽣成0和1的数组\n",
    "ones = np.ones([2,2])\n",
    "zeros = np.zeros([3,3])\n",
    "print(ones)\n",
    "print(zeros)"
   ]
  },
  {
   "cell_type": "markdown",
   "id": "439d24c8",
   "metadata": {},
   "source": [
    "## 从现有数组生成"
   ]
  },
  {
   "cell_type": "code",
   "execution_count": 20,
   "id": "5234390b",
   "metadata": {},
   "outputs": [
    {
     "name": "stdout",
     "output_type": "stream",
     "text": [
      "[[1 2 3]\n",
      " [4 5 6]]\n",
      "[[1 2 3]\n",
      " [4 5 6]]\n"
     ]
    }
   ],
   "source": [
    "a = np.array([[1,2,3],[4,5,6]])\n",
    "# 从现有的数组当中创建\n",
    "a1 = np.array(a) # 深拷贝\n",
    "# 相当于索引的形式，并没有真正的创建⼀个新的\n",
    "a2 = np.asarray(a) #浅拷贝\n",
    "print(a1)\n",
    "print(a2)"
   ]
  },
  {
   "cell_type": "markdown",
   "id": "bd193788",
   "metadata": {},
   "source": [
    "## ⽣成固定范围的数组"
   ]
  },
  {
   "cell_type": "code",
   "execution_count": 21,
   "id": "4c87be71",
   "metadata": {},
   "outputs": [
    {
     "data": {
      "text/plain": [
       "array([  0.,  10.,  20.,  30.,  40.,  50.,  60.,  70.,  80.,  90., 100.])"
      ]
     },
     "execution_count": 21,
     "metadata": {},
     "output_type": "execute_result"
    }
   ],
   "source": [
    "np.linspace(0, 100, 11)"
   ]
  },
  {
   "cell_type": "code",
   "execution_count": 22,
   "id": "97c90d49",
   "metadata": {},
   "outputs": [
    {
     "data": {
      "text/plain": [
       "array([10, 12, 14, 16, 18, 20, 22, 24, 26, 28, 30, 32, 34, 36, 38, 40, 42,\n",
       "       44, 46, 48])"
      ]
     },
     "execution_count": 22,
     "metadata": {},
     "output_type": "execute_result"
    }
   ],
   "source": [
    "np.arange(10, 50, 2)"
   ]
  },
  {
   "cell_type": "code",
   "execution_count": null,
   "id": "93a60db6",
   "metadata": {},
   "outputs": [],
   "source": []
  }
 ],
 "metadata": {
  "kernelspec": {
   "display_name": "Python 3 (ipykernel)",
   "language": "python",
   "name": "python3"
  },
  "language_info": {
   "codemirror_mode": {
    "name": "ipython",
    "version": 3
   },
   "file_extension": ".py",
   "mimetype": "text/x-python",
   "name": "python",
   "nbconvert_exporter": "python",
   "pygments_lexer": "ipython3",
   "version": "3.11.3"
  }
 },
 "nbformat": 4,
 "nbformat_minor": 5
}
